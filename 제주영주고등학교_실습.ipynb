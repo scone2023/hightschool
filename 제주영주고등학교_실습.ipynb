{
  "nbformat": 4,
  "nbformat_minor": 0,
  "metadata": {
    "colab": {
      "provenance": [],
      "authorship_tag": "ABX9TyPu3z2iyCv4tSbR6JqFP66r",
      "include_colab_link": true
    },
    "kernelspec": {
      "name": "python3",
      "display_name": "Python 3"
    },
    "language_info": {
      "name": "python"
    }
  },
  "cells": [
    {
      "cell_type": "markdown",
      "metadata": {
        "id": "view-in-github",
        "colab_type": "text"
      },
      "source": [
        "<a href=\"https://colab.research.google.com/github/scone2023/hightschool/blob/main/%EC%A0%9C%EC%A3%BC%EC%98%81%EC%A3%BC%EA%B3%A0%EB%93%B1%ED%95%99%EA%B5%90_%EC%8B%A4%EC%8A%B5.ipynb\" target=\"_parent\"><img src=\"https://colab.research.google.com/assets/colab-badge.svg\" alt=\"Open In Colab\"/></a>"
      ]
    },
    {
      "cell_type": "markdown",
      "source": [
        "너무 반짝반짝 눈이 부셔 NoNoNoNoNo'"
      ],
      "metadata": {
        "id": "O0HQR7J3n66f"
      }
    },
    {
      "cell_type": "code",
      "execution_count": 6,
      "metadata": {
        "id": "kIsuf2p68urH",
        "colab": {
          "base_uri": "https://localhost:8080/"
        },
        "outputId": "8d8b9970-e3c2-4c49-a35c-4a5b32334d6b"
      },
      "outputs": [
        {
          "output_type": "stream",
          "name": "stdout",
          "text": [
            "너무반짝 반짝 눈이 부셔 NoNoNoNoNo\n"
          ]
        }
      ],
      "source": [
        "print('너무' + '반짝 반짝 눈이 부셔','No'*5 )"
      ]
    },
    {
      "cell_type": "code",
      "source": [
        "import sys\n",
        "print(sys.version)\n",
        "print(sys.executable)"
      ],
      "metadata": {
        "id": "ssatZBiYoW_U"
      },
      "execution_count": null,
      "outputs": []
    }
  ]
}